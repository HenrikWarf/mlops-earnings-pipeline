{
 "cells": [
  {
   "cell_type": "markdown",
   "id": "8c5095aa-9874-42cf-b654-a18945b4bbdc",
   "metadata": {},
   "source": [
    "# Orchestrating Custom Pipelines in Vertex AI"
   ]
  },
  {
   "cell_type": "markdown",
   "id": "9f1f1d6a-a601-4917-ae2e-be8799aa7eb1",
   "metadata": {},
   "source": [
    "**Contents:**\n",
    "1. Introduction\n",
    "2. Pipeline Parameters and Variables\n",
    "3. Building Execution Container\n",
    "4. Setting up build triggers with Cloud Build\n",
    "5. Setting up Pipeline Schedule"
   ]
  },
  {
   "cell_type": "markdown",
   "id": "a9387327-543c-4368-9fbc-c884aabb08db",
   "metadata": {
    "tags": []
   },
   "source": [
    "## 1.0 Introduction"
   ]
  },
  {
   "cell_type": "markdown",
   "id": "41c47efd-d709-44a2-a625-b759b0f170cb",
   "metadata": {},
   "source": [
    "This notebook can be used as templete to set up version control, automated build triggers and scheduling for Vertex AI and MLOps use cases. The services used are: Cloud Build, Cloud Scheduler, Artifact Registry, Cloud Run and GitHub."
   ]
  },
  {
   "cell_type": "code",
   "execution_count": 1,
   "id": "9ec61667-547d-4ba3-899d-3a9e5eb526c3",
   "metadata": {
    "tags": []
   },
   "outputs": [],
   "source": [
    "CLIENT_SERVICE_ACCOUNT_EMAIL = \"ml1-dev-sa@mlops-dev-999-c6b8.iam.gserviceaccount.com\""
   ]
  },
  {
   "cell_type": "code",
   "execution_count": 2,
   "id": "23a39487-3c1e-4f67-a835-348e429c542f",
   "metadata": {},
   "outputs": [
    {
     "name": "stdout",
     "output_type": "stream",
     "text": [
      "Project ID:  shell-init: error retrieving current directory: getcwd: cannot access parent directories: No such file or directory\n"
     ]
    }
   ],
   "source": [
    "import os\n",
    "\n",
    "PROJECT_ID = \"mlops-dev-999\"\n",
    "\n",
    "# Get your Google Cloud project ID from gcloud\n",
    "if not os.getenv(\"IS_TESTING\"):\n",
    "    shell_output=!gcloud config list --format 'value(core.project)' 2>/dev/null\n",
    "    PROJECT_ID = shell_output[0]\n",
    "    print(\"Project ID: \", PROJECT_ID)"
   ]
  },
  {
   "cell_type": "markdown",
   "id": "5787fd92-bba4-4706-a473-54b31d07d1b6",
   "metadata": {},
   "source": [
    "## 2.0 Pipeline Parameters and Variables"
   ]
  },
  {
   "cell_type": "code",
   "execution_count": 3,
   "id": "6a749945-c810-4009-b085-18d82f2f9b15",
   "metadata": {},
   "outputs": [
    {
     "name": "stdout",
     "output_type": "stream",
     "text": [
      "us-central1-docker.pkg.dev/mlops-dev-999-c6b8/custom-earnings-pipeline/vertex-custom-training:20220701121432\n"
     ]
    }
   ],
   "source": [
    "#project\n",
    "PROJECT_ID = \"mlops-dev-999-c6b8\"\n",
    "LOCATION = \"us-central1\"\n",
    "\n",
    "#artifact registry\n",
    "ART_REPO_NAME = \"custom-earnings-pipeline\"\n",
    "IMAGE_NAME = \"vertex-custom-training\"\n",
    "from datetime import datetime\n",
    "TIMESTAMP = datetime.now().strftime(\"%Y%m%d%H%M%S\")\n",
    "IMAGE_TAG = TIMESTAMP\n",
    "IMAGE_URI = \"us-central1-docker.pkg.dev/{}/{}/{}:{}\".format(PROJECT_ID, ART_REPO_NAME, IMAGE_NAME,IMAGE_TAG)\n",
    "print(IMAGE_URI)\n",
    "\n",
    "#container execution\n",
    "URI = \"\"\n",
    "\n",
    "#build trigger\n",
    "REPO_NAME = \"mlops-earnings-pipeline\"\n",
    "REPO_OWNER = \"HenrikWarf\"\n",
    "\n",
    "#schedule\n",
    "CRON = \"0 9 * * *\" #09.00 every day\n",
    "SCHEDULE_NAME = \"earnings-prediction-pipeline\"\n"
   ]
  },
  {
   "cell_type": "markdown",
   "id": "e6063b25-85fa-4617-aee7-41fee8f78284",
   "metadata": {},
   "source": [
    "## 3.0 Defining Pipeline Trigger Container "
   ]
  },
  {
   "cell_type": "code",
   "execution_count": 4,
   "id": "486b9de0-c3ba-4f55-9c4e-1099c95c2571",
   "metadata": {},
   "outputs": [
    {
     "name": "stdout",
     "output_type": "stream",
     "text": [
      "Writing Dockerfile\n"
     ]
    },
    {
     "ename": "FileNotFoundError",
     "evalue": "[Errno 2] No such file or directory: 'Dockerfile'",
     "output_type": "error",
     "traceback": [
      "\u001b[0;31m---------------------------------------------------------------------------\u001b[0m",
      "\u001b[0;31mFileNotFoundError\u001b[0m                         Traceback (most recent call last)",
      "\u001b[0;32m/tmp/ipykernel_4140/2797393216.py\u001b[0m in \u001b[0;36m<module>\u001b[0;34m\u001b[0m\n\u001b[0;32m----> 1\u001b[0;31m \u001b[0mget_ipython\u001b[0m\u001b[0;34m(\u001b[0m\u001b[0;34m)\u001b[0m\u001b[0;34m.\u001b[0m\u001b[0mrun_cell_magic\u001b[0m\u001b[0;34m(\u001b[0m\u001b[0;34m'writefile'\u001b[0m\u001b[0;34m,\u001b[0m \u001b[0;34m'Dockerfile'\u001b[0m\u001b[0;34m,\u001b[0m \u001b[0;34m'\\n# Specifies base image and tag\\nFROM gcr.io/google.com/cloudsdktool/cloud-sdk:latest\\nWORKDIR /root\\n\\n# Copies the trainer code to the docker image.\\nCOPY cloud-run-execution/main.py /root/main.py\\nCOPY pipeline-code/earnings_pipeline.json /root/earnings_pipeline.json\\nCOPY cloud-run-execution/requirements.txt /root/requirements.txt\\n\\n# Installs additional packages\\nRUN pip3 install -r requirements.txt \\n\\n#Execute the Application\\n#ENTRYPOINT [\"python3\", \"pipeline-run.py\"]\\nCMD exec gunicorn --bind :$PORT --workers 1 --threads 8 --timeout 0 main:app\\n'\u001b[0m\u001b[0;34m)\u001b[0m\u001b[0;34m\u001b[0m\u001b[0;34m\u001b[0m\u001b[0m\n\u001b[0m",
      "\u001b[0;32m/opt/conda/lib/python3.7/site-packages/IPython/core/interactiveshell.py\u001b[0m in \u001b[0;36mrun_cell_magic\u001b[0;34m(self, magic_name, line, cell)\u001b[0m\n\u001b[1;32m   2470\u001b[0m             \u001b[0;32mwith\u001b[0m \u001b[0mself\u001b[0m\u001b[0;34m.\u001b[0m\u001b[0mbuiltin_trap\u001b[0m\u001b[0;34m:\u001b[0m\u001b[0;34m\u001b[0m\u001b[0;34m\u001b[0m\u001b[0m\n\u001b[1;32m   2471\u001b[0m                 \u001b[0margs\u001b[0m \u001b[0;34m=\u001b[0m \u001b[0;34m(\u001b[0m\u001b[0mmagic_arg_s\u001b[0m\u001b[0;34m,\u001b[0m \u001b[0mcell\u001b[0m\u001b[0;34m)\u001b[0m\u001b[0;34m\u001b[0m\u001b[0;34m\u001b[0m\u001b[0m\n\u001b[0;32m-> 2472\u001b[0;31m                 \u001b[0mresult\u001b[0m \u001b[0;34m=\u001b[0m \u001b[0mfn\u001b[0m\u001b[0;34m(\u001b[0m\u001b[0;34m*\u001b[0m\u001b[0margs\u001b[0m\u001b[0;34m,\u001b[0m \u001b[0;34m**\u001b[0m\u001b[0mkwargs\u001b[0m\u001b[0;34m)\u001b[0m\u001b[0;34m\u001b[0m\u001b[0;34m\u001b[0m\u001b[0m\n\u001b[0m\u001b[1;32m   2473\u001b[0m             \u001b[0;32mreturn\u001b[0m \u001b[0mresult\u001b[0m\u001b[0;34m\u001b[0m\u001b[0;34m\u001b[0m\u001b[0m\n\u001b[1;32m   2474\u001b[0m \u001b[0;34m\u001b[0m\u001b[0m\n",
      "\u001b[0;32m/opt/conda/lib/python3.7/site-packages/decorator.py\u001b[0m in \u001b[0;36mfun\u001b[0;34m(*args, **kw)\u001b[0m\n\u001b[1;32m    230\u001b[0m             \u001b[0;32mif\u001b[0m \u001b[0;32mnot\u001b[0m \u001b[0mkwsyntax\u001b[0m\u001b[0;34m:\u001b[0m\u001b[0;34m\u001b[0m\u001b[0;34m\u001b[0m\u001b[0m\n\u001b[1;32m    231\u001b[0m                 \u001b[0margs\u001b[0m\u001b[0;34m,\u001b[0m \u001b[0mkw\u001b[0m \u001b[0;34m=\u001b[0m \u001b[0mfix\u001b[0m\u001b[0;34m(\u001b[0m\u001b[0margs\u001b[0m\u001b[0;34m,\u001b[0m \u001b[0mkw\u001b[0m\u001b[0;34m,\u001b[0m \u001b[0msig\u001b[0m\u001b[0;34m)\u001b[0m\u001b[0;34m\u001b[0m\u001b[0;34m\u001b[0m\u001b[0m\n\u001b[0;32m--> 232\u001b[0;31m             \u001b[0;32mreturn\u001b[0m \u001b[0mcaller\u001b[0m\u001b[0;34m(\u001b[0m\u001b[0mfunc\u001b[0m\u001b[0;34m,\u001b[0m \u001b[0;34m*\u001b[0m\u001b[0;34m(\u001b[0m\u001b[0mextras\u001b[0m \u001b[0;34m+\u001b[0m \u001b[0margs\u001b[0m\u001b[0;34m)\u001b[0m\u001b[0;34m,\u001b[0m \u001b[0;34m**\u001b[0m\u001b[0mkw\u001b[0m\u001b[0;34m)\u001b[0m\u001b[0;34m\u001b[0m\u001b[0;34m\u001b[0m\u001b[0m\n\u001b[0m\u001b[1;32m    233\u001b[0m     \u001b[0mfun\u001b[0m\u001b[0;34m.\u001b[0m\u001b[0m__name__\u001b[0m \u001b[0;34m=\u001b[0m \u001b[0mfunc\u001b[0m\u001b[0;34m.\u001b[0m\u001b[0m__name__\u001b[0m\u001b[0;34m\u001b[0m\u001b[0;34m\u001b[0m\u001b[0m\n\u001b[1;32m    234\u001b[0m     \u001b[0mfun\u001b[0m\u001b[0;34m.\u001b[0m\u001b[0m__doc__\u001b[0m \u001b[0;34m=\u001b[0m \u001b[0mfunc\u001b[0m\u001b[0;34m.\u001b[0m\u001b[0m__doc__\u001b[0m\u001b[0;34m\u001b[0m\u001b[0;34m\u001b[0m\u001b[0m\n",
      "\u001b[0;32m/opt/conda/lib/python3.7/site-packages/IPython/core/magic.py\u001b[0m in \u001b[0;36m<lambda>\u001b[0;34m(f, *a, **k)\u001b[0m\n\u001b[1;32m    185\u001b[0m     \u001b[0;31m# but it's overkill for just that one bit of state.\u001b[0m\u001b[0;34m\u001b[0m\u001b[0;34m\u001b[0m\u001b[0;34m\u001b[0m\u001b[0m\n\u001b[1;32m    186\u001b[0m     \u001b[0;32mdef\u001b[0m \u001b[0mmagic_deco\u001b[0m\u001b[0;34m(\u001b[0m\u001b[0marg\u001b[0m\u001b[0;34m)\u001b[0m\u001b[0;34m:\u001b[0m\u001b[0;34m\u001b[0m\u001b[0;34m\u001b[0m\u001b[0m\n\u001b[0;32m--> 187\u001b[0;31m         \u001b[0mcall\u001b[0m \u001b[0;34m=\u001b[0m \u001b[0;32mlambda\u001b[0m \u001b[0mf\u001b[0m\u001b[0;34m,\u001b[0m \u001b[0;34m*\u001b[0m\u001b[0ma\u001b[0m\u001b[0;34m,\u001b[0m \u001b[0;34m**\u001b[0m\u001b[0mk\u001b[0m\u001b[0;34m:\u001b[0m \u001b[0mf\u001b[0m\u001b[0;34m(\u001b[0m\u001b[0;34m*\u001b[0m\u001b[0ma\u001b[0m\u001b[0;34m,\u001b[0m \u001b[0;34m**\u001b[0m\u001b[0mk\u001b[0m\u001b[0;34m)\u001b[0m\u001b[0;34m\u001b[0m\u001b[0;34m\u001b[0m\u001b[0m\n\u001b[0m\u001b[1;32m    188\u001b[0m \u001b[0;34m\u001b[0m\u001b[0m\n\u001b[1;32m    189\u001b[0m         \u001b[0;32mif\u001b[0m \u001b[0mcallable\u001b[0m\u001b[0;34m(\u001b[0m\u001b[0marg\u001b[0m\u001b[0;34m)\u001b[0m\u001b[0;34m:\u001b[0m\u001b[0;34m\u001b[0m\u001b[0;34m\u001b[0m\u001b[0m\n",
      "\u001b[0;32m/opt/conda/lib/python3.7/site-packages/IPython/core/magics/osm.py\u001b[0m in \u001b[0;36mwritefile\u001b[0;34m(self, line, cell)\u001b[0m\n\u001b[1;32m    854\u001b[0m \u001b[0;34m\u001b[0m\u001b[0m\n\u001b[1;32m    855\u001b[0m         \u001b[0mmode\u001b[0m \u001b[0;34m=\u001b[0m \u001b[0;34m'a'\u001b[0m \u001b[0;32mif\u001b[0m \u001b[0margs\u001b[0m\u001b[0;34m.\u001b[0m\u001b[0mappend\u001b[0m \u001b[0;32melse\u001b[0m \u001b[0;34m'w'\u001b[0m\u001b[0;34m\u001b[0m\u001b[0;34m\u001b[0m\u001b[0m\n\u001b[0;32m--> 856\u001b[0;31m         \u001b[0;32mwith\u001b[0m \u001b[0mio\u001b[0m\u001b[0;34m.\u001b[0m\u001b[0mopen\u001b[0m\u001b[0;34m(\u001b[0m\u001b[0mfilename\u001b[0m\u001b[0;34m,\u001b[0m \u001b[0mmode\u001b[0m\u001b[0;34m,\u001b[0m \u001b[0mencoding\u001b[0m\u001b[0;34m=\u001b[0m\u001b[0;34m'utf-8'\u001b[0m\u001b[0;34m)\u001b[0m \u001b[0;32mas\u001b[0m \u001b[0mf\u001b[0m\u001b[0;34m:\u001b[0m\u001b[0;34m\u001b[0m\u001b[0;34m\u001b[0m\u001b[0m\n\u001b[0m\u001b[1;32m    857\u001b[0m             \u001b[0mf\u001b[0m\u001b[0;34m.\u001b[0m\u001b[0mwrite\u001b[0m\u001b[0;34m(\u001b[0m\u001b[0mcell\u001b[0m\u001b[0;34m)\u001b[0m\u001b[0;34m\u001b[0m\u001b[0;34m\u001b[0m\u001b[0m\n",
      "\u001b[0;31mFileNotFoundError\u001b[0m: [Errno 2] No such file or directory: 'Dockerfile'"
     ]
    }
   ],
   "source": [
    "%%writefile Dockerfile\n",
    "\n",
    "# Specifies base image and tag\n",
    "FROM gcr.io/google.com/cloudsdktool/cloud-sdk:latest\n",
    "WORKDIR /root\n",
    "\n",
    "# Copies the trainer code to the docker image.\n",
    "COPY cloud-run-execution/main.py /root/main.py\n",
    "COPY pipeline-code/earnings_pipeline.json /root/earnings_pipeline.json\n",
    "COPY cloud-run-execution/requirements.txt /root/requirements.txt\n",
    "\n",
    "# Installs additional packages\n",
    "RUN pip3 install -r requirements.txt \n",
    "\n",
    "#Execute the Application\n",
    "#ENTRYPOINT [\"python3\", \"pipeline-run.py\"]\n",
    "CMD exec gunicorn --bind :$PORT --workers 1 --threads 8 --timeout 0 main:app"
   ]
  },
  {
   "cell_type": "markdown",
   "id": "8b25646f-e739-46ec-92ca-5f9fbfa01bf7",
   "metadata": {},
   "source": [
    "## 4.0 Setting up build tiggers with Cloud Build"
   ]
  },
  {
   "cell_type": "code",
   "execution_count": 5,
   "id": "5bccdc99-da16-4cae-8396-df240f5f2325",
   "metadata": {},
   "outputs": [
    {
     "name": "stdout",
     "output_type": "stream",
     "text": [
      "Overwriting cloud-build.yaml\n"
     ]
    }
   ],
   "source": [
    "%%writefile cloud-build.yaml\n",
    "\n",
    "steps: \n",
    "- name: 'gcr.io/cloud-builders/docker'\n",
    "  args: ['build', '-t', 'us-central1-docker.pkg.dev/${PROJECT_ID}/custom-earnings-pipeline/vertex-custom-training:${BUILD_ID}', '.']\n",
    "  id: 'Building Cloud Run Container - Pipeline Execution Step'\n",
    "\n",
    "- name: 'gcr.io/cloud-builders/docker'\n",
    "  args: [ 'push', 'us-central1-docker.pkg.dev/${PROJECT_ID}/custom-earnings-pipeline/vertex-custom-training:${BUILD_ID}']\n",
    "  id: 'Pushing Cloud Run Container to Artifact Registrty'\n",
    "\n",
    "- name: 'gcr.io/cloud-builders/gcloud'\n",
    "  args: \n",
    "    - 'run'\n",
    "    - 'deploy'\n",
    "    - 'earnings-prediction-job'\n",
    "    - '--region'\n",
    "    - 'us-central1'\n",
    "    - '--image'\n",
    "    - 'us-central-docker.pkg.dev/${PROJECT_ID}/custom-earnings-pipeline/vertex-custom-training:${BUILD_ID}'\n",
    "  id: 'Deploy Pipeline Execution container in Cloud Run'"
   ]
  },
  {
   "cell_type": "markdown",
   "id": "05729819-996c-439f-86c1-375b3322c34a",
   "metadata": {},
   "source": [
    "#### Set up build trigger connection to git repo"
   ]
  },
  {
   "cell_type": "code",
   "execution_count": 11,
   "id": "b2228e9f-ed8c-4d01-979b-8f350591c7b5",
   "metadata": {},
   "outputs": [
    {
     "name": "stdout",
     "output_type": "stream",
     "text": [
      "\u001b[1;33mWARNING:\u001b[0m You do not appear to have access to project [mlops-dev-999-c6b8] or it does not exist.\n",
      "Updated property [core/project].\n"
     ]
    }
   ],
   "source": [
    "!gcloud config set project --quiet mlops-dev-999-c6b8"
   ]
  },
  {
   "cell_type": "code",
   "execution_count": 13,
   "id": "0359cf89-18c0-4523-83f9-6af20fa56ab4",
   "metadata": {},
   "outputs": [
    {
     "name": "stdout",
     "output_type": "stream",
     "text": [
      "[core]\n",
      "account = admin@henrikw.altostrat.com\n",
      "disable_usage_reporting = True\n",
      "project = mlops-dev-999-c6b8\n",
      "\n",
      "Your active configuration is: [default]\n"
     ]
    }
   ],
   "source": [
    "!gcloud config list"
   ]
  },
  {
   "cell_type": "code",
   "execution_count": 25,
   "id": "0ef53838-4ed9-46f0-8b20-364f0e58b760",
   "metadata": {},
   "outputs": [
    {
     "name": "stdout",
     "output_type": "stream",
     "text": [
      "       Credentialed Accounts\n",
      "ACTIVE  ACCOUNT\n",
      "*       admin@henrikw.altostrat.com\n",
      "\n",
      "To set the active account, run:\n",
      "    $ gcloud config set account `ACCOUNT`\n",
      "\n"
     ]
    }
   ],
   "source": [
    "!gcloud auth list"
   ]
  },
  {
   "cell_type": "code",
   "execution_count": 24,
   "id": "3c71f28d-9a93-48f1-916b-fb5ea5f9bcc2",
   "metadata": {},
   "outputs": [
    {
     "name": "stdout",
     "output_type": "stream",
     "text": [
      "/bin/bash: mlops-dev-999-c6b8: command not found\n"
     ]
    }
   ],
   "source": [
    "!$PROJECT_ID"
   ]
  },
  {
   "cell_type": "code",
   "execution_count": 22,
   "id": "463c26d1-da42-4e24-b1a2-ab77db0d635d",
   "metadata": {},
   "outputs": [
    {
     "name": "stdout",
     "output_type": "stream",
     "text": [
      "\u001b[1;31mERROR:\u001b[0m (gcloud.beta.builds.triggers.create.github) PERMISSION_DENIED: Cloud Build API has not been used in project 457198359346 before or it is disabled. Enable it by visiting https://console.developers.google.com/apis/api/cloudbuild.googleapis.com/overview?project=457198359346 then retry. If you enabled this API recently, wait a few minutes for the action to propagate to our systems and retry.\n",
      "- '@type': type.googleapis.com/google.rpc.Help\n",
      "  links:\n",
      "  - description: Google developers console API activation\n",
      "    url: https://console.developers.google.com/apis/api/cloudbuild.googleapis.com/overview?project=457198359346\n",
      "- '@type': type.googleapis.com/google.rpc.ErrorInfo\n",
      "  domain: googleapis.com\n",
      "  metadata:\n",
      "    consumer: projects/457198359346\n",
      "    service: cloudbuild.googleapis.com\n",
      "  reason: SERVICE_DISABLED\n"
     ]
    }
   ],
   "source": [
    "!gcloud beta builds triggers create github --quiet --name=$REPO_NAME\\\n",
    "--project=$PROJECT_ID\\\n",
    "--repo-owner=$REPO_OWNER\\\n",
    "--repo-name=$REPO_NAME\\\n",
    "--branch-pattern=\".*\"\\\n",
    "--build-config=\"cloud-build.yaml\""
   ]
  },
  {
   "cell_type": "markdown",
   "id": "0e6765d8-bb2e-42e9-8f96-630c2a13dfd9",
   "metadata": {},
   "source": [
    "#### Deleting the build trigger"
   ]
  },
  {
   "cell_type": "code",
   "execution_count": 101,
   "id": "385cacb7-534a-4cfb-b208-e4b9a60609d2",
   "metadata": {},
   "outputs": [
    {
     "name": "stdout",
     "output_type": "stream",
     "text": [
      "Deleted [projects/crazy-hippo-01/locations/global/triggers/mlops-earnings-pipeline].\n"
     ]
    }
   ],
   "source": [
    "!gcloud beta builds triggers delete mlops-earnings-pipeline"
   ]
  },
  {
   "cell_type": "markdown",
   "id": "b16f4dc8-4362-41b9-9178-4aba46525588",
   "metadata": {},
   "source": [
    "#### Manual Trigger"
   ]
  },
  {
   "cell_type": "code",
   "execution_count": null,
   "id": "164defd5-302f-4dc1-87f8-36a5ec0b971d",
   "metadata": {},
   "outputs": [],
   "source": [
    "!gcloud builds submit --config cloud-build.yaml ."
   ]
  },
  {
   "cell_type": "code",
   "execution_count": null,
   "id": "7506440e-df73-4218-bc91-33b03747cac0",
   "metadata": {},
   "outputs": [],
   "source": [
    "!gcloud builds submit --region=us-west2 --tag gcr.io/project-id/image-name ."
   ]
  },
  {
   "cell_type": "markdown",
   "id": "328242c6-e57b-49cb-825a-787b5d704dd2",
   "metadata": {},
   "source": [
    "## 5.0 Setting up Pipeline Schedule"
   ]
  },
  {
   "cell_type": "markdown",
   "id": "a93a9148-0fc1-4399-83d7-400d40e74dbe",
   "metadata": {},
   "source": [
    "#### Set up schedule"
   ]
  },
  {
   "cell_type": "code",
   "execution_count": null,
   "id": "2fbdce4e-5b49-457f-94f5-1f59baf4f572",
   "metadata": {},
   "outputs": [],
   "source": [
    "!gcloud scheduler jobs create http $SCHEDULE_NAME\\\n",
    "--location=$LOCATION --schedule=\"0 */3 * * *\"\\\n",
    "--uri=$URI --http-method=POST --oidc-service-account-email $CLIENT_SERVICE_ACCOUNT_EMAIL"
   ]
  },
  {
   "cell_type": "markdown",
   "id": "628a5227-3bac-4389-8ce9-a5ab92ee6f66",
   "metadata": {},
   "source": [
    "#### Delete Schedule"
   ]
  },
  {
   "cell_type": "code",
   "execution_count": 84,
   "id": "3f98a502-1d52-4b15-8eca-a4b63dc86454",
   "metadata": {},
   "outputs": [
    {
     "name": "stdout",
     "output_type": "stream",
     "text": [
      "Deleted job [earnings-prediction-pipeline].\n"
     ]
    }
   ],
   "source": [
    "!gcloud scheduler jobs delete $SCHEDULE_NAME --location=$LOCATION --quiet"
   ]
  },
  {
   "cell_type": "code",
   "execution_count": null,
   "id": "13d28b76-6887-4868-81d3-e561bba9725f",
   "metadata": {},
   "outputs": [],
   "source": []
  }
 ],
 "metadata": {
  "environment": {
   "kernel": "python3",
   "name": "tf2-gpu.2-8.m93",
   "type": "gcloud",
   "uri": "gcr.io/deeplearning-platform-release/tf2-gpu.2-8:m93"
  },
  "kernelspec": {
   "display_name": "Python 3",
   "language": "python",
   "name": "python3"
  },
  "language_info": {
   "codemirror_mode": {
    "name": "ipython",
    "version": 3
   },
   "file_extension": ".py",
   "mimetype": "text/x-python",
   "name": "python",
   "nbconvert_exporter": "python",
   "pygments_lexer": "ipython3",
   "version": "3.7.12"
  }
 },
 "nbformat": 4,
 "nbformat_minor": 5
}
