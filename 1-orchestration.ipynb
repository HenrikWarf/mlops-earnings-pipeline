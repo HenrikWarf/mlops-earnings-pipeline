{
 "cells": [
  {
   "cell_type": "markdown",
   "id": "8c5095aa-9874-42cf-b654-a18945b4bbdc",
   "metadata": {},
   "source": [
    "# Orchestrating Custom Pipelines in Vertex AI"
   ]
  },
  {
   "cell_type": "markdown",
   "id": "9f1f1d6a-a601-4917-ae2e-be8799aa7eb1",
   "metadata": {},
   "source": [
    "**Contents:**\n",
    "1. Introduction\n",
    "2. Pipeline Parameters and Variables\n",
    "3. Building Execution Container\n",
    "4. Setting up build triggers with Cloud Build\n",
    "5. Setting up Pipeline Schedule"
   ]
  },
  {
   "cell_type": "markdown",
   "id": "a9387327-543c-4368-9fbc-c884aabb08db",
   "metadata": {},
   "source": [
    "## 1.0 Introduction"
   ]
  },
  {
   "cell_type": "markdown",
   "id": "41c47efd-d709-44a2-a625-b759b0f170cb",
   "metadata": {},
   "source": [
    "This notebook can be used as templete to set up version control, automated build triggers and scheduling for Vertex AI and MLOps use cases. The services used are: Cloud Build, Cloud Scheduler, Artifact Registry, Cloud Run and GitHub."
   ]
  },
  {
   "cell_type": "markdown",
   "id": "5787fd92-bba4-4706-a473-54b31d07d1b6",
   "metadata": {},
   "source": [
    "## 2.0 Pipeline Parameters and Variables"
   ]
  },
  {
   "cell_type": "code",
   "execution_count": 80,
   "id": "6a749945-c810-4009-b085-18d82f2f9b15",
   "metadata": {},
   "outputs": [],
   "source": [
    "#project\n",
    "PROJECT_ID = \"crazy-hippo-01\"\n",
    "LOCATION = \"us-west1\"\n",
    "CLIENT_SERVICE_ACCOUNT_EMAIL = \"edit-rights@crazy-hippo-01.iam.gserviceaccount.com\"\n",
    "\n",
    "#artifact registry\n",
    "ART_REPO_NAME = \"custom-earnings-pipeline\"\n",
    "IMAGE_NAME = \"vertex-custom-training\"\n",
    "from datetime import datetime\n",
    "TIMESTAMP = datetime.now().strftime(\"%Y%m%d%H%M%S\")\n",
    "IMAGE_TAG = TIMESTAMP\n",
    "IMAGE_URI = \"us-west1-docker.pkg.dev/{}/{}/{}:{}\".format(PROJECT_ID, ART_REPO_NAME, IMAGE_NAME,IMAGE_TAG)\n",
    "\n",
    "#container execution\n",
    "URI = \"https://earnings-prediction-job-lzltzfj6za-uw.a.run.app/\"\n",
    "\n",
    "#build trigger\n",
    "REPO_NAME = \"mlops-earnings-pipeline\"\n",
    "REPO_OWNER = \"HenrikWarf\"\n",
    "\n",
    "#schedule\n",
    "CRON = \"0 9 * * *\" #09.00 every day\n",
    "SCHEDULE_NAME = \"earnings-prediction-pipeline\"\n"
   ]
  },
  {
   "cell_type": "markdown",
   "id": "e6063b25-85fa-4617-aee7-41fee8f78284",
   "metadata": {},
   "source": [
    "## 3.0 Defining Pipeline Execution Container "
   ]
  },
  {
   "cell_type": "code",
   "execution_count": 79,
   "id": "486b9de0-c3ba-4f55-9c4e-1099c95c2571",
   "metadata": {},
   "outputs": [
    {
     "name": "stdout",
     "output_type": "stream",
     "text": [
      "Overwriting Dockerfile\n"
     ]
    }
   ],
   "source": [
    "%%writefile Dockerfile\n",
    "\n",
    "# Specifies base image and tag\n",
    "FROM gcr.io/google.com/cloudsdktool/cloud-sdk:latest\n",
    "WORKDIR /root\n",
    "\n",
    "# Copies the trainer code to the docker image.\n",
    "COPY cloud-run-execution/main.py /root/main.py\n",
    "COPY pipeline-code/earnings_pipeline.json /root/earnings_pipeline.json\n",
    "COPY cloud-run-execution/requirements.txt /root/requirements.txt\n",
    "\n",
    "# Installs additional packages\n",
    "RUN pip3 install -r requirements.txt \n",
    "\n",
    "#Execute the Application\n",
    "#ENTRYPOINT [\"python3\", \"pipeline-run.py\"]\n",
    "CMD exec gunicorn --bind :$PORT --workers 1 --threads 8 --timeout 0 main:app"
   ]
  },
  {
   "cell_type": "markdown",
   "id": "8b25646f-e739-46ec-92ca-5f9fbfa01bf7",
   "metadata": {},
   "source": [
    "## 4.0 Setting up build tiggers with Cloud Build"
   ]
  },
  {
   "cell_type": "code",
   "execution_count": 29,
   "id": "5bccdc99-da16-4cae-8396-df240f5f2325",
   "metadata": {},
   "outputs": [
    {
     "name": "stdout",
     "output_type": "stream",
     "text": [
      "Overwriting cloud-build.yaml\n"
     ]
    }
   ],
   "source": [
    "%%writefile cloud-build.yaml\n",
    "\n",
    "steps: \n",
    "- name: 'gcr.io/cloud-builders/docker'\n",
    "  args: ['build', '-t', 'us-west1-docker.pkg.dev/${PROJECT_ID}/custom-earnings-pipeline/vertex-custom-training:${BUILD_ID}', '.']\n",
    "  id: 'Building Cloud Run Container - Pipeline Execution Step'\n",
    "\n",
    "- name: 'gcr.io/cloud-builders/docker'\n",
    "  args: [ 'push', 'us-west1-docker.pkg.dev/${PROJECT_ID}/custom-earnings-pipeline/vertex-custom-training:${BUILD_ID}']\n",
    "  id: 'Pushing Cloud Run Container to Artifact Registrty'\n",
    "\n",
    "- name: 'gcr.io/cloud-builders/gcloud'\n",
    "  args: \n",
    "    - 'run'\n",
    "    - 'deploy'\n",
    "    - 'earnings-prediction-job'\n",
    "    - '--region'\n",
    "    - 'us-west1'\n",
    "    - '--image'\n",
    "    - 'us-west1-docker.pkg.dev/${PROJECT_ID}/custom-earnings-pipeline/vertex-custom-training:${BUILD_ID}'\n",
    "  id: 'Deploy and run Pipeline Execution in Cloud Run'"
   ]
  },
  {
   "cell_type": "markdown",
   "id": "05729819-996c-439f-86c1-375b3322c34a",
   "metadata": {},
   "source": [
    "#### Set up build trigger connection to git repo"
   ]
  },
  {
   "cell_type": "code",
   "execution_count": 76,
   "id": "463c26d1-da42-4e24-b1a2-ab77db0d635d",
   "metadata": {},
   "outputs": [
    {
     "name": "stdout",
     "output_type": "stream",
     "text": [
      "Created [https://cloudbuild.googleapis.com/v1/projects/crazy-hippo-01/locations/global/triggers/4bfd4971-abfa-4e55-84a3-e69a5173f7eb].\n",
      "NAME                     CREATE_TIME                STATUS\n",
      "mlops-earnings-pipeline  2022-04-09T15:36:44+00:00\n"
     ]
    }
   ],
   "source": [
    "!gcloud beta builds triggers create github --name=$REPO_NAME\\\n",
    "--repo-owner=$REPO_OWNER\\\n",
    "--repo-name=$REPO_NAME\\\n",
    "--branch-pattern=\".*\"\\\n",
    "--build-config=\"cloud-build.yaml\""
   ]
  },
  {
   "cell_type": "markdown",
   "id": "0e6765d8-bb2e-42e9-8f96-630c2a13dfd9",
   "metadata": {},
   "source": [
    "#### Deleting the build trigger"
   ]
  },
  {
   "cell_type": "code",
   "execution_count": 75,
   "id": "385cacb7-534a-4cfb-b208-e4b9a60609d2",
   "metadata": {},
   "outputs": [
    {
     "name": "stdout",
     "output_type": "stream",
     "text": [
      "Deleted [projects/crazy-hippo-01/locations/global/triggers/mlops-earnings-pipeline].\n"
     ]
    }
   ],
   "source": [
    "!gcloud beta builds triggers delete mlops-earnings-pipeline"
   ]
  },
  {
   "cell_type": "markdown",
   "id": "b16f4dc8-4362-41b9-9178-4aba46525588",
   "metadata": {},
   "source": [
    "#### Manual Trigger"
   ]
  },
  {
   "cell_type": "code",
   "execution_count": null,
   "id": "164defd5-302f-4dc1-87f8-36a5ec0b971d",
   "metadata": {},
   "outputs": [],
   "source": [
    "!gcloud builds submit --config cloud-build.yaml ."
   ]
  },
  {
   "cell_type": "markdown",
   "id": "328242c6-e57b-49cb-825a-787b5d704dd2",
   "metadata": {},
   "source": [
    "## 5.0 Setting up Pipeline Schedule"
   ]
  },
  {
   "cell_type": "markdown",
   "id": "a93a9148-0fc1-4399-83d7-400d40e74dbe",
   "metadata": {},
   "source": [
    "#### Set up schedule"
   ]
  },
  {
   "cell_type": "code",
   "execution_count": 85,
   "id": "2fbdce4e-5b49-457f-94f5-1f59baf4f572",
   "metadata": {},
   "outputs": [],
   "source": [
    "!gcloud scheduler jobs create http $SCHEDULE_NAME\\\n",
    "--location=$LOCATION --schedule=\"0 */3 * * *\"\\\n",
    "--uri=$URI --http-method=POST --oidc-service-account-email $CLIENT_SERVICE_ACCOUNT_EMAIL"
   ]
  },
  {
   "cell_type": "markdown",
   "id": "628a5227-3bac-4389-8ce9-a5ab92ee6f66",
   "metadata": {},
   "source": [
    "#### Delete Schedule"
   ]
  },
  {
   "cell_type": "code",
   "execution_count": 84,
   "id": "3f98a502-1d52-4b15-8eca-a4b63dc86454",
   "metadata": {},
   "outputs": [
    {
     "name": "stdout",
     "output_type": "stream",
     "text": [
      "Deleted job [earnings-prediction-pipeline].\n"
     ]
    }
   ],
   "source": [
    "!gcloud scheduler jobs delete $SCHEDULE_NAME --location=$LOCATION --quiet"
   ]
  },
  {
   "cell_type": "code",
   "execution_count": null,
   "id": "13d28b76-6887-4868-81d3-e561bba9725f",
   "metadata": {},
   "outputs": [],
   "source": []
  }
 ],
 "metadata": {
  "environment": {
   "kernel": "python3",
   "name": "tf2-gpu.2-6.m87",
   "type": "gcloud",
   "uri": "gcr.io/deeplearning-platform-release/tf2-gpu.2-6:m87"
  },
  "kernelspec": {
   "display_name": "Python 3",
   "language": "python",
   "name": "python3"
  },
  "language_info": {
   "codemirror_mode": {
    "name": "ipython",
    "version": 3
   },
   "file_extension": ".py",
   "mimetype": "text/x-python",
   "name": "python",
   "nbconvert_exporter": "python",
   "pygments_lexer": "ipython3",
   "version": "3.7.12"
  }
 },
 "nbformat": 4,
 "nbformat_minor": 5
}
