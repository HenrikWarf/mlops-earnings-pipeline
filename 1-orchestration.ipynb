{
 "cells": [
  {
   "cell_type": "markdown",
   "id": "8c5095aa-9874-42cf-b654-a18945b4bbdc",
   "metadata": {},
   "source": [
    "# Orchestrating Custom Pipelines in Vertex AI"
   ]
  },
  {
   "cell_type": "markdown",
   "id": "9f1f1d6a-a601-4917-ae2e-be8799aa7eb1",
   "metadata": {},
   "source": [
    "**Contents:**\n",
    "1. Introduction\n",
    "2. Pipeline Parameters and Variables\n",
    "3. Building Execution Container\n",
    "4. Setting up build triggers with Cloud Build\n",
    "5. Setting up Pipeline Schedule"
   ]
  },
  {
   "cell_type": "markdown",
   "id": "a9387327-543c-4368-9fbc-c884aabb08db",
   "metadata": {
    "tags": []
   },
   "source": [
    "## 1.0 Introduction"
   ]
  },
  {
   "cell_type": "markdown",
   "id": "41c47efd-d709-44a2-a625-b759b0f170cb",
   "metadata": {},
   "source": [
    "This notebook can be used as templete to set up version control, automated build triggers and scheduling for Vertex AI and MLOps use cases. The services used are: Cloud Build, Cloud Scheduler, Artifact Registry, Cloud Run and GitHub."
   ]
  },
  {
   "cell_type": "code",
   "execution_count": 9,
   "id": "fd31d036-63de-4f68-9f2f-ea44c1e5ba71",
   "metadata": {},
   "outputs": [
    {
     "name": "stdout",
     "output_type": "stream",
     "text": [
      "shell-init: error retrieving current directory: getcwd: cannot access parent directories: No such file or directory\n"
     ]
    }
   ],
   "source": [
    "!ls"
   ]
  },
  {
   "cell_type": "code",
   "execution_count": 2,
   "id": "9ec61667-547d-4ba3-899d-3a9e5eb526c3",
   "metadata": {
    "tags": []
   },
   "outputs": [],
   "source": [
    "CLIENT_SERVICE_ACCOUNT_EMAIL = \"ml1-dev-sa@mlops-dev-999-c6b8.iam.gserviceaccount.com\""
   ]
  },
  {
   "cell_type": "code",
   "execution_count": 3,
   "id": "23a39487-3c1e-4f67-a835-348e429c542f",
   "metadata": {},
   "outputs": [
    {
     "output_type": "stream",
     "name": "stdout",
     "text": [
      "Project ID:  mlops-dev-999-c6b8\n"
     ]
    }
   ],
   "source": [
    "import os\n",
    "\n",
    "PROJECT_ID = \"mlops-dev-999\"\n",
    "\n",
    "# Get your Google Cloud project ID from gcloud\n",
    "if not os.getenv(\"IS_TESTING\"):\n",
    "    shell_output=!gcloud config list --format 'value(core.project)' 2>/dev/null\n",
    "    PROJECT_ID = shell_output[0]\n",
    "    print(\"Project ID: \", PROJECT_ID)"
   ]
  },
  {
   "cell_type": "markdown",
   "id": "5787fd92-bba4-4706-a473-54b31d07d1b6",
   "metadata": {},
   "source": [
    "## 2.0 Pipeline Parameters and Variables"
   ]
  },
  {
   "cell_type": "code",
   "execution_count": 4,
   "id": "6a749945-c810-4009-b085-18d82f2f9b15",
   "metadata": {},
   "outputs": [
    {
     "output_type": "stream",
     "name": "stdout",
     "text": [
      "us-central1-docker.pkg.dev/mlops-dev-999-c6b8/ml-dev-99/earnings-pipline-kf:20220703142054\n"
     ]
    }
   ],
   "source": [
    "#project\n",
    "PROJECT_ID = \"mlops-dev-999-c6b8\"\n",
    "PROJECT_NUM = \"965234628650\"\n",
    "LOCATION = \"us-central1\"\n",
    "\n",
    "#artifact registry\n",
    "ART_REPO_NAME = \"ml-dev-99\"\n",
    "IMAGE_NAME = \"earnings-pipline-kf\"\n",
    "from datetime import datetime\n",
    "TIMESTAMP = datetime.now().strftime(\"%Y%m%d%H%M%S\")\n",
    "IMAGE_TAG = TIMESTAMP\n",
    "IMAGE_URI = \"us-central1-docker.pkg.dev/{}/{}/{}:{}\".format(PROJECT_ID, ART_REPO_NAME, IMAGE_NAME,IMAGE_TAG)\n",
    "print(IMAGE_URI)\n",
    "\n",
    "#container execution\n",
    "URI = \"https://earnings-prediction-job-znmfc5a5eq-uc.a.run.app\"\n",
    "\n",
    "#build trigger\n",
    "REPO_NAME = \"mlops-earnings-pipeline\"\n",
    "REPO_OWNER = \"HenrikWarf\"\n",
    "\n",
    "#schedule\n",
    "CRON = \"0 9 * * *\" #09.00 every day\n",
    "SCHEDULE_NAME = \"earnings-prediction-pipeline\"\n"
   ]
  },
  {
   "cell_type": "markdown",
   "id": "e6063b25-85fa-4617-aee7-41fee8f78284",
   "metadata": {},
   "source": [
    "## 3.0 Defining Pipeline Trigger Container "
   ]
  },
  {
   "cell_type": "code",
   "execution_count": 5,
   "id": "486b9de0-c3ba-4f55-9c4e-1099c95c2571",
   "metadata": {},
   "outputs": [
    {
     "output_type": "stream",
     "name": "stdout",
     "text": [
      "Overwriting Dockerfile\n"
     ]
    }
   ],
   "source": [
    "%%writefile Dockerfile\n",
    "\n",
    "# Specifies base image and tag\n",
    "FROM gcr.io/google.com/cloudsdktool/cloud-sdk:latest\n",
    "WORKDIR /root\n",
    "\n",
    "# Copies the trainer code to the docker image.\n",
    "COPY cloud-run-execution/main.py /root/main.py\n",
    "COPY pipeline-code/earnings_pipeline.json /root/earnings_pipeline.json\n",
    "COPY cloud-run-execution/requirements.txt /root/requirements.txt\n",
    "\n",
    "# Installs additional packages\n",
    "RUN pip3 install -r requirements.txt \n",
    "\n",
    "#Execute the Application\n",
    "#ENTRYPOINT [\"python3\", \"pipeline-run.py\"]\n",
    "CMD exec gunicorn --bind :$PORT --workers 1 --threads 8 --timeout 0 main:app"
   ]
  },
  {
   "cell_type": "markdown",
   "id": "8b25646f-e739-46ec-92ca-5f9fbfa01bf7",
   "metadata": {},
   "source": [
    "## 4.0 Setting up build tiggers with Cloud Build"
   ]
  },
  {
   "cell_type": "code",
   "execution_count": 9,
   "id": "5bccdc99-da16-4cae-8396-df240f5f2325",
   "metadata": {},
   "outputs": [
    {
     "output_type": "stream",
     "name": "stdout",
     "text": [
      "Overwriting cloud-build.yaml\n"
     ]
    }
   ],
   "source": [
    "%%writefile cloud-build.yaml\n",
    "\n",
    "steps: \n",
    "- name: 'gcr.io/cloud-builders/docker'\n",
    "  args: ['build', '-t', 'us-central1-docker.pkg.dev/${PROJECT_ID}/ml-dev-99/earnings-pipline-kf:${BUILD_ID}', '.']\n",
    "  id: 'Building Cloud Run Container - Pipeline Execution Step'\n",
    "\n",
    "- name: 'gcr.io/cloud-builders/docker'\n",
    "  args: [ 'push', 'us-central1-docker.pkg.dev/${PROJECT_ID}/ml-dev-99/earnings-pipline-kf:${BUILD_ID}']\n",
    "  id: 'Pushing Cloud Run Container to Artifact Registrty'\n",
    "\n",
    "- name: 'gcr.io/cloud-builders/gcloud'\n",
    "  args: \n",
    "    - 'run'\n",
    "    - 'deploy'\n",
    "    - 'earnings-prediction-job'\n",
    "    - '--region'\n",
    "    - 'us-central1'\n",
    "    - '--image'\n",
    "    - 'us-central1-docker.pkg.dev/${PROJECT_ID}/ml-dev-99/earnings-pipline-kf:${BUILD_ID}'\n",
    "    - '--service-account'\n",
    "    - 'ml1-dev-sa@mlops-dev-999-c6b8.iam.gserviceaccount.com'\n",
    "  id: 'Deploy Pipeline Execution container in Cloud Run'"
   ]
  },
  {
   "cell_type": "markdown",
   "id": "38797992-abd0-4f78-bdf1-e22c5b8741e0",
   "metadata": {},
   "source": [
    "# 5.0 Set up Artifact Registry"
   ]
  },
  {
   "cell_type": "code",
   "execution_count": 32,
   "id": "c3714270-ad6a-481e-9dc9-bbe857117416",
   "metadata": {},
   "outputs": [
    {
     "name": "stdout",
     "output_type": "stream",
     "text": [
      "Create request issued for: [ml-dev-99]\n",
      "Waiting for operation [projects/mlops-dev-999-c6b8/locations/us-central1/operat\n",
      "ions/56180a11-cd41-4410-8fd0-944eb99107cc] to complete...done.                 \n",
      "Created repository [ml-dev-99].\n"
     ]
    }
   ],
   "source": [
    "!gcloud artifacts repositories create ml-dev-99 --repository-format=docker \\\n",
    "    --location=us-central1 --description=\"Docker repository for ml-dev-99\""
   ]
  },
  {
   "cell_type": "markdown",
   "id": "05729819-996c-439f-86c1-375b3322c34a",
   "metadata": {},
   "source": [
    "# 6.0 Set up build trigger connection to git repo"
   ]
  },
  {
   "cell_type": "code",
   "execution_count": 10,
   "id": "b2228e9f-ed8c-4d01-979b-8f350591c7b5",
   "metadata": {},
   "outputs": [
    {
     "output_type": "stream",
     "name": "stdout",
     "text": [
      "Updated property [core/project].\n"
     ]
    }
   ],
   "source": [
    "!gcloud config set project --quiet mlops-dev-999-c6b8"
   ]
  },
  {
   "cell_type": "code",
   "execution_count": 7,
   "id": "0359cf89-18c0-4523-83f9-6af20fa56ab4",
   "metadata": {},
   "outputs": [
    {
     "name": "stdout",
     "output_type": "stream",
     "text": [
      "[core]\n",
      "account = admin@henrikw.altostrat.com\n",
      "disable_usage_reporting = True\n",
      "project = mlops-dev-999-c6b8\n",
      "\n",
      "Your active configuration is: [default]\n"
     ]
    }
   ],
   "source": [
    "!gcloud config list"
   ]
  },
  {
   "cell_type": "code",
   "execution_count": 15,
   "id": "0ef53838-4ed9-46f0-8b20-364f0e58b760",
   "metadata": {},
   "outputs": [
    {
     "output_type": "stream",
     "name": "stdout",
     "text": [
      "Credentialed Accounts\n\nACTIVE: *\nACCOUNT: admin@henrikw.altostrat.com\n\nTo set the active account, run:\n    $ gcloud config set account `ACCOUNT`\n\n"
     ]
    }
   ],
   "source": [
    "!gcloud auth list"
   ]
  },
  {
   "cell_type": "code",
   "execution_count": 14,
   "id": "3c71f28d-9a93-48f1-916b-fb5ea5f9bcc2",
   "metadata": {},
   "outputs": [
    {
     "output_type": "stream",
     "name": "stdout",
     "text": [
      "mlops-dev-999-c6b8\n"
     ]
    }
   ],
   "source": [
    "! echo $PROJECT_ID"
   ]
  },
  {
   "cell_type": "code",
   "execution_count": 13,
   "id": "bc24188c-12a3-436c-a6d1-5352b0888323",
   "metadata": {},
   "outputs": [
    {
     "output_type": "execute_result",
     "data": {
      "text/plain": [
       "'mlops-dev-999-c6b8'"
      ]
     },
     "metadata": {},
     "execution_count": 13
    }
   ],
   "source": [
    "PROJECT_ID"
   ]
  },
  {
   "cell_type": "code",
   "execution_count": 16,
   "id": "463c26d1-da42-4e24-b1a2-ab77db0d635d",
   "metadata": {},
   "outputs": [
    {
     "output_type": "stream",
     "name": "stdout",
     "text": [
      "Created [https://cloudbuild.googleapis.com/v1/projects/mlops-dev-999-c6b8/locations/us-central1/triggers/46527960-7fe8-4f39-a123-6ef28779cdd6].\nNAME: mlops-earnings-pipeline\nCREATE_TIME: 2022-07-03T12:13:09+00:00\nSTATUS: \n"
     ]
    }
   ],
   "source": [
    "!gcloud beta builds triggers create github --quiet --name=$REPO_NAME\\\n",
    "--project=$PROJECT_ID\\\n",
    "--repo-owner=$REPO_OWNER\\\n",
    "--repo-name=$REPO_NAME\\\n",
    "--branch-pattern=\".*\"\\\n",
    "--region=\"us-central1\"\\\n",
    "--build-config=\"cloud-build.yaml\""
   ]
  },
  {
   "cell_type": "markdown",
   "id": "0e6765d8-bb2e-42e9-8f96-630c2a13dfd9",
   "metadata": {},
   "source": [
    "#### Deleting the build trigger"
   ]
  },
  {
   "cell_type": "code",
   "execution_count": 12,
   "id": "385cacb7-534a-4cfb-b208-e4b9a60609d2",
   "metadata": {},
   "outputs": [
    {
     "output_type": "stream",
     "name": "stdout",
     "text": [
      "Deleted [projects/mlops-dev-999-c6b8/locations/us-central1/triggers/mlops-earnings-pipeline].\n"
     ]
    }
   ],
   "source": [
    "!gcloud beta builds triggers delete mlops-earnings-pipeline --region=\"us-central1\" "
   ]
  },
  {
   "cell_type": "markdown",
   "id": "b16f4dc8-4362-41b9-9178-4aba46525588",
   "metadata": {},
   "source": [
    "#### Manual Trigger"
   ]
  },
  {
   "cell_type": "code",
   "execution_count": null,
   "id": "164defd5-302f-4dc1-87f8-36a5ec0b971d",
   "metadata": {},
   "outputs": [],
   "source": [
    "!gcloud builds submit --config cloud-build.yaml ."
   ]
  },
  {
   "cell_type": "code",
   "execution_count": null,
   "id": "7506440e-df73-4218-bc91-33b03747cac0",
   "metadata": {},
   "outputs": [],
   "source": [
    "!gcloud builds submit --region=us-west2 --tag gcr.io/project-id/image-name ."
   ]
  },
  {
   "cell_type": "markdown",
   "id": "328242c6-e57b-49cb-825a-787b5d704dd2",
   "metadata": {},
   "source": [
    "## 5.0 Setting up Pipeline Schedule"
   ]
  },
  {
   "cell_type": "markdown",
   "id": "a93a9148-0fc1-4399-83d7-400d40e74dbe",
   "metadata": {},
   "source": [
    "#### Set up schedule"
   ]
  },
  {
   "cell_type": "code",
   "execution_count": 4,
   "metadata": {},
   "outputs": [
    {
     "output_type": "execute_result",
     "data": {
      "text/plain": [
       "'https://earnings-prediction-job-znmfc5a5eq-uc.a.run.app'"
      ]
     },
     "metadata": {},
     "execution_count": 4
    }
   ],
   "source": [
    "URI"
   ]
  },
  {
   "cell_type": "code",
   "execution_count": 8,
   "id": "2fbdce4e-5b49-457f-94f5-1f59baf4f572",
   "metadata": {},
   "outputs": [],
   "source": [
    "!gcloud scheduler jobs create http $SCHEDULE_NAME\\\n",
    "--project=\"mlops-dev-999-c6b8\" --location=\"us-central1\" --schedule=\"0 */3 * * *\"\\\n",
    "--uri=$URI --http-method=POST --oidc-service-account-email=$CLIENT_SERVICE_ACCOUNT_EMAIL"
   ]
  },
  {
   "cell_type": "markdown",
   "id": "628a5227-3bac-4389-8ce9-a5ab92ee6f66",
   "metadata": {},
   "source": [
    "#### Delete Schedule"
   ]
  },
  {
   "cell_type": "code",
   "execution_count": 7,
   "id": "3f98a502-1d52-4b15-8eca-a4b63dc86454",
   "metadata": {},
   "outputs": [
    {
     "output_type": "stream",
     "name": "stdout",
     "text": [
      "Deleted job [earnings-prediction-pipeline].\n"
     ]
    }
   ],
   "source": [
    "!gcloud scheduler jobs delete $SCHEDULE_NAME --location=$LOCATION --quiet"
   ]
  },
  {
   "cell_type": "code",
   "execution_count": null,
   "id": "13d28b76-6887-4868-81d3-e561bba9725f",
   "metadata": {},
   "outputs": [],
   "source": []
  }
 ],
 "metadata": {
  "environment": {
   "kernel": "python3",
   "name": "tf2-gpu.2-8.m93",
   "type": "gcloud",
   "uri": "gcr.io/deeplearning-platform-release/tf2-gpu.2-8:m93"
  },
  "kernelspec": {
   "display_name": "Python 3 (ipykernel)",
   "language": "python",
   "name": "python3"
  },
  "language_info": {
   "codemirror_mode": {
    "name": "ipython",
    "version": 3
   },
   "file_extension": ".py",
   "mimetype": "text/x-python",
   "name": "python",
   "nbconvert_exporter": "python",
   "pygments_lexer": "ipython3",
   "version": "3.9.2-final"
  }
 },
 "nbformat": 4,
 "nbformat_minor": 5
}