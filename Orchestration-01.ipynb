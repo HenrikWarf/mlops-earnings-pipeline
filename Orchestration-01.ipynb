{
 "cells": [
  {
   "cell_type": "code",
   "execution_count": 1,
   "id": "1ca54f62-d7bc-4219-b129-b1a9034ef5a4",
   "metadata": {},
   "outputs": [],
   "source": [
    "CLIENT_SERVICE_ACCOUNT_EMAIL = \"ml1-dev-sa@mlops-dev-999-c6b8.iam.gserviceaccount.com\""
   ]
  },
  {
   "cell_type": "code",
   "execution_count": 2,
   "id": "cd0fc4f5-99fc-4cc2-94af-79d7729d02b0",
   "metadata": {},
   "outputs": [
    {
     "name": "stdout",
     "output_type": "stream",
     "text": [
      "Project ID:  mlops-dev-999-c6b8\n"
     ]
    }
   ],
   "source": [
    "import os\n",
    "\n",
    "PROJECT_ID = \"mlops-dev-999\"\n",
    "\n",
    "# Get your Google Cloud project ID from gcloud\n",
    "if not os.getenv(\"IS_TESTING\"):\n",
    "    shell_output=!gcloud config list --format 'value(core.project)' 2>/dev/null\n",
    "    PROJECT_ID = shell_output[0]\n",
    "    print(\"Project ID: \", PROJECT_ID)"
   ]
  },
  {
   "cell_type": "code",
   "execution_count": 3,
   "id": "bc167211-a2cd-45fe-b542-80f7938da21c",
   "metadata": {},
   "outputs": [
    {
     "name": "stdout",
     "output_type": "stream",
     "text": [
      "us-central1-docker.pkg.dev/mlops-dev-999-c6b8/custom-earnings-pipeline/vertex-custom-training:20220701121826\n"
     ]
    }
   ],
   "source": [
    "#project\n",
    "PROJECT_ID = \"mlops-dev-999-c6b8\"\n",
    "LOCATION = \"us-central1\"\n",
    "\n",
    "#artifact registry\n",
    "ART_REPO_NAME = \"custom-earnings-pipeline\"\n",
    "IMAGE_NAME = \"vertex-custom-training\"\n",
    "from datetime import datetime\n",
    "TIMESTAMP = datetime.now().strftime(\"%Y%m%d%H%M%S\")\n",
    "IMAGE_TAG = TIMESTAMP\n",
    "IMAGE_URI = \"us-central1-docker.pkg.dev/{}/{}/{}:{}\".format(PROJECT_ID, ART_REPO_NAME, IMAGE_NAME,IMAGE_TAG)\n",
    "print(IMAGE_URI)\n",
    "\n",
    "#container execution\n",
    "URI = \"\"\n",
    "\n",
    "#build trigger\n",
    "REPO_NAME = \"mlops-earnings-pipeline\"\n",
    "REPO_OWNER = \"HenrikWarf\"\n",
    "\n",
    "#schedule\n",
    "CRON = \"0 9 * * *\" #09.00 every day\n",
    "SCHEDULE_NAME = \"earnings-prediction-pipeline\""
   ]
  },
  {
   "cell_type": "code",
   "execution_count": 4,
   "id": "f8bbb64b-219d-4c1c-ac14-209ec1f3a8b0",
   "metadata": {},
   "outputs": [
    {
     "name": "stdout",
     "output_type": "stream",
     "text": [
      "Overwriting Dockerfile\n"
     ]
    }
   ],
   "source": [
    "%%writefile Dockerfile\n",
    "\n",
    "# Specifies base image and tag\n",
    "FROM gcr.io/google.com/cloudsdktool/cloud-sdk:latest\n",
    "WORKDIR /root\n",
    "\n",
    "# Copies the trainer code to the docker image.\n",
    "COPY cloud-run-execution/main.py /root/main.py\n",
    "COPY pipeline-code/earnings_pipeline.json /root/earnings_pipeline.json\n",
    "COPY cloud-run-execution/requirements.txt /root/requirements.txt\n",
    "\n",
    "# Installs additional packages\n",
    "RUN pip3 install -r requirements.txt \n",
    "\n",
    "#Execute the Application\n",
    "#ENTRYPOINT [\"python3\", \"pipeline-run.py\"]\n",
    "CMD exec gunicorn --bind :$PORT --workers 1 --threads 8 --timeout 0 main:app"
   ]
  },
  {
   "cell_type": "code",
   "execution_count": 5,
   "id": "84c6df48-76b9-45cf-872b-19b34941b792",
   "metadata": {},
   "outputs": [
    {
     "name": "stdout",
     "output_type": "stream",
     "text": [
      "Overwriting cloud-build.yaml\n"
     ]
    }
   ],
   "source": [
    "%%writefile cloud-build.yaml\n",
    "\n",
    "steps: \n",
    "- name: 'gcr.io/cloud-builders/docker'\n",
    "  args: ['build', '-t', 'us-central1-docker.pkg.dev/${PROJECT_ID}/custom-earnings-pipeline/vertex-custom-training:${BUILD_ID}', '.']\n",
    "  id: 'Building Cloud Run Container - Pipeline Execution Step'\n",
    "\n",
    "- name: 'gcr.io/cloud-builders/docker'\n",
    "  args: [ 'push', 'us-central1-docker.pkg.dev/${PROJECT_ID}/custom-earnings-pipeline/vertex-custom-training:${BUILD_ID}']\n",
    "  id: 'Pushing Cloud Run Container to Artifact Registrty'\n",
    "\n",
    "- name: 'gcr.io/cloud-builders/gcloud'\n",
    "  args: \n",
    "    - 'run'\n",
    "    - 'deploy'\n",
    "    - 'earnings-prediction-job'\n",
    "    - '--region'\n",
    "    - 'us-central1'\n",
    "    - '--image'\n",
    "    - 'us-central-docker.pkg.dev/${PROJECT_ID}/custom-earnings-pipeline/vertex-custom-training:${BUILD_ID}'\n",
    "  id: 'Deploy Pipeline Execution container in Cloud Run'"
   ]
  },
  {
   "cell_type": "code",
   "execution_count": 6,
   "id": "1edb47b3-1e89-4ee8-83ad-0045a64aaf54",
   "metadata": {},
   "outputs": [
    {
     "name": "stdout",
     "output_type": "stream",
     "text": [
      "Created [https://cloudbuild.googleapis.com/v1/projects/mlops-dev-999-c6b8/locations/global/triggers/9211a8f2-e804-4638-9c37-76ef467fac10].\n",
      "NAME                     CREATE_TIME                STATUS\n",
      "mlops-earnings-pipeline  2022-07-01T12:19:42+00:00\n"
     ]
    }
   ],
   "source": [
    "!gcloud beta builds triggers create github --quiet --name=$REPO_NAME\\\n",
    "--project=$PROJECT_ID\\\n",
    "--repo-owner=$REPO_OWNER\\\n",
    "--repo-name=$REPO_NAME\\\n",
    "--branch-pattern=\".*\"\\\n",
    "--build-config=\"cloud-build.yaml\""
   ]
  },
  {
   "cell_type": "code",
   "execution_count": null,
   "id": "baaed9f4-65e5-4320-a6cf-1fd20ae61ebc",
   "metadata": {},
   "outputs": [],
   "source": [
    "!gcloud beta builds triggers delete mlops-earnings-pipeline"
   ]
  },
  {
   "cell_type": "code",
   "execution_count": null,
   "id": "7ecbcfd8-313e-4651-aa69-530e7d004d12",
   "metadata": {},
   "outputs": [],
   "source": [
    "!gcloud builds submit --config cloud-build.yaml ."
   ]
  },
  {
   "cell_type": "code",
   "execution_count": null,
   "id": "8f7903e0-bf96-46a9-b7f9-e1c26edeb1eb",
   "metadata": {},
   "outputs": [],
   "source": [
    "!gcloud scheduler jobs create http $SCHEDULE_NAME\\\n",
    "--location=$LOCATION --schedule=\"0 */3 * * *\"\\\n",
    "--uri=$URI --http-method=POST --oidc-service-account-email $CLIENT_SERVICE_ACCOUNT_EMAIL"
   ]
  },
  {
   "cell_type": "code",
   "execution_count": null,
   "id": "7caded25-82c5-440e-8a95-eb0f6f963cf8",
   "metadata": {},
   "outputs": [],
   "source": [
    "!gcloud scheduler jobs delete $SCHEDULE_NAME --location=$LOCATION --quiet"
   ]
  }
 ],
 "metadata": {
  "environment": {
   "kernel": "python3",
   "name": "tf2-gpu.2-8.m93",
   "type": "gcloud",
   "uri": "gcr.io/deeplearning-platform-release/tf2-gpu.2-8:m93"
  },
  "kernelspec": {
   "display_name": "Python 3",
   "language": "python",
   "name": "python3"
  },
  "language_info": {
   "codemirror_mode": {
    "name": "ipython",
    "version": 3
   },
   "file_extension": ".py",
   "mimetype": "text/x-python",
   "name": "python",
   "nbconvert_exporter": "python",
   "pygments_lexer": "ipython3",
   "version": "3.7.12"
  }
 },
 "nbformat": 4,
 "nbformat_minor": 5
}
