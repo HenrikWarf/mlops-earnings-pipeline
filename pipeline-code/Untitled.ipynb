{
 "cells": [
  {
   "cell_type": "markdown",
   "id": "9fb546b9-ec31-4b9c-b8be-068245edea34",
   "metadata": {},
   "source": [
    "#@bigquery\n",
    "SELECT age, workclass, occupation, education_num, marital_status, capital_gain, label\n",
    "FROM `mlops-dev-999-c6b8.earnings_prediction.earnings_raw_data` \n",
    "LIMIT 50"
   ]
  },
  {
   "cell_type": "code",
   "execution_count": 1,
   "id": "aac2471e-75b3-4082-87be-99f861b4c918",
   "metadata": {},
   "outputs": [],
   "source": [
    "# The following two lines are only necessary to run once.\n",
    "# Comment out otherwise for speed-up.\n",
    "from google.cloud.bigquery import Client, QueryJobConfig\n",
    "client = Client()\n",
    "\n",
    "query = \"\"\"SELECT age, workclass, occupation, education_num, marital_status, capital_gain, label\n",
    "FROM `mlops-dev-999-c6b8.earnings_prediction.earnings_raw_data` \n",
    "LIMIT 50\"\"\"\n",
    "job = client.query(query)\n",
    "df = job.to_dataframe()"
   ]
  },
  {
   "cell_type": "code",
   "execution_count": 37,
   "id": "f4dcc3ff-678d-4858-b1c1-82f2365d1157",
   "metadata": {},
   "outputs": [
    {
     "data": {
      "text/plain": [
       "True"
      ]
     },
     "execution_count": 37,
     "metadata": {},
     "output_type": "execute_result"
    }
   ],
   "source": [
    "df['label'][1] == '>50K'"
   ]
  },
  {
   "cell_type": "code",
   "execution_count": 40,
   "id": "155bb442-a105-44b3-8c35-2336d91da4f5",
   "metadata": {},
   "outputs": [],
   "source": [
    "df['label'] = [int(1) if x == '>50K' else int(0) for x in df['label']]"
   ]
  },
  {
   "cell_type": "code",
   "execution_count": 41,
   "id": "ac6e7ea5-3f71-4e16-96b2-3f27fbe69f7e",
   "metadata": {},
   "outputs": [
    {
     "data": {
      "text/html": [
       "<div>\n",
       "<style scoped>\n",
       "    .dataframe tbody tr th:only-of-type {\n",
       "        vertical-align: middle;\n",
       "    }\n",
       "\n",
       "    .dataframe tbody tr th {\n",
       "        vertical-align: top;\n",
       "    }\n",
       "\n",
       "    .dataframe thead th {\n",
       "        text-align: right;\n",
       "    }\n",
       "</style>\n",
       "<table border=\"1\" class=\"dataframe\">\n",
       "  <thead>\n",
       "    <tr style=\"text-align: right;\">\n",
       "      <th></th>\n",
       "      <th>age</th>\n",
       "      <th>workclass</th>\n",
       "      <th>occupation</th>\n",
       "      <th>education_num</th>\n",
       "      <th>marital_status</th>\n",
       "      <th>capital_gain</th>\n",
       "      <th>label</th>\n",
       "    </tr>\n",
       "  </thead>\n",
       "  <tbody>\n",
       "    <tr>\n",
       "      <th>0</th>\n",
       "      <td>39</td>\n",
       "      <td>Private</td>\n",
       "      <td>Other-service</td>\n",
       "      <td>5</td>\n",
       "      <td>Married-civ-spouse</td>\n",
       "      <td>3411</td>\n",
       "      <td>0</td>\n",
       "    </tr>\n",
       "    <tr>\n",
       "      <th>1</th>\n",
       "      <td>72</td>\n",
       "      <td>Private</td>\n",
       "      <td>Exec-managerial</td>\n",
       "      <td>5</td>\n",
       "      <td>Married-civ-spouse</td>\n",
       "      <td>0</td>\n",
       "      <td>1</td>\n",
       "    </tr>\n",
       "    <tr>\n",
       "      <th>2</th>\n",
       "      <td>45</td>\n",
       "      <td>Private</td>\n",
       "      <td>Machine-op-inspct</td>\n",
       "      <td>5</td>\n",
       "      <td>Married-civ-spouse</td>\n",
       "      <td>0</td>\n",
       "      <td>1</td>\n",
       "    </tr>\n",
       "    <tr>\n",
       "      <th>3</th>\n",
       "      <td>31</td>\n",
       "      <td>Private</td>\n",
       "      <td>Exec-managerial</td>\n",
       "      <td>5</td>\n",
       "      <td>Married-civ-spouse</td>\n",
       "      <td>0</td>\n",
       "      <td>0</td>\n",
       "    </tr>\n",
       "    <tr>\n",
       "      <th>4</th>\n",
       "      <td>55</td>\n",
       "      <td>Private</td>\n",
       "      <td>Tech-support</td>\n",
       "      <td>5</td>\n",
       "      <td>Married-civ-spouse</td>\n",
       "      <td>0</td>\n",
       "      <td>0</td>\n",
       "    </tr>\n",
       "  </tbody>\n",
       "</table>\n",
       "</div>"
      ],
      "text/plain": [
       "   age workclass         occupation  education_num      marital_status  \\\n",
       "0   39   Private      Other-service              5  Married-civ-spouse   \n",
       "1   72   Private    Exec-managerial              5  Married-civ-spouse   \n",
       "2   45   Private  Machine-op-inspct              5  Married-civ-spouse   \n",
       "3   31   Private    Exec-managerial              5  Married-civ-spouse   \n",
       "4   55   Private       Tech-support              5  Married-civ-spouse   \n",
       "\n",
       "   capital_gain  label  \n",
       "0          3411      0  \n",
       "1             0      1  \n",
       "2             0      1  \n",
       "3             0      0  \n",
       "4             0      0  "
      ]
     },
     "execution_count": 41,
     "metadata": {},
     "output_type": "execute_result"
    }
   ],
   "source": [
    "df.head()"
   ]
  },
  {
   "cell_type": "code",
   "execution_count": null,
   "id": "525dce38-2809-4f21-807a-a4b160b8c176",
   "metadata": {},
   "outputs": [],
   "source": []
  }
 ],
 "metadata": {
  "kernelspec": {
   "display_name": "Python (Local)",
   "language": "python",
   "name": "local-base"
  },
  "language_info": {
   "codemirror_mode": {
    "name": "ipython",
    "version": 3
   },
   "file_extension": ".py",
   "mimetype": "text/x-python",
   "name": "python",
   "nbconvert_exporter": "python",
   "pygments_lexer": "ipython3",
   "version": "3.7.12"
  }
 },
 "nbformat": 4,
 "nbformat_minor": 5
}
